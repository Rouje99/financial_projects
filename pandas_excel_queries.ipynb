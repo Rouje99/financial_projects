{
  "nbformat": 4,
  "nbformat_minor": 0,
  "metadata": {
    "colab": {
      "provenance": [],
      "mount_file_id": "1FhKNyALC1KTtGKAMMY3jJuci_wSdUPeM",
      "authorship_tag": "ABX9TyO4mChiciMBLo9YDjzrITB/"
    },
    "kernelspec": {
      "name": "python3",
      "display_name": "Python 3"
    },
    "language_info": {
      "name": "python"
    }
  },
  "cells": [
    {
      "cell_type": "code",
      "execution_count": 6,
      "metadata": {
        "colab": {
          "base_uri": "https://localhost:8080/",
          "height": 73
        },
        "id": "hvYLJAouOXc4",
        "outputId": "45d34106-6481-41d0-ad12-50c979faddd3"
      },
      "outputs": [
        {
          "output_type": "display_data",
          "data": {
            "text/plain": [
              "<IPython.core.display.HTML object>"
            ],
            "text/html": [
              "\n",
              "     <input type=\"file\" id=\"files-941a338e-fa01-45e5-a112-ae9ef9f2d84c\" name=\"files[]\" multiple disabled\n",
              "        style=\"border:none\" />\n",
              "     <output id=\"result-941a338e-fa01-45e5-a112-ae9ef9f2d84c\">\n",
              "      Upload widget is only available when the cell has been executed in the\n",
              "      current browser session. Please rerun this cell to enable.\n",
              "      </output>\n",
              "      <script>// Copyright 2017 Google LLC\n",
              "//\n",
              "// Licensed under the Apache License, Version 2.0 (the \"License\");\n",
              "// you may not use this file except in compliance with the License.\n",
              "// You may obtain a copy of the License at\n",
              "//\n",
              "//      http://www.apache.org/licenses/LICENSE-2.0\n",
              "//\n",
              "// Unless required by applicable law or agreed to in writing, software\n",
              "// distributed under the License is distributed on an \"AS IS\" BASIS,\n",
              "// WITHOUT WARRANTIES OR CONDITIONS OF ANY KIND, either express or implied.\n",
              "// See the License for the specific language governing permissions and\n",
              "// limitations under the License.\n",
              "\n",
              "/**\n",
              " * @fileoverview Helpers for google.colab Python module.\n",
              " */\n",
              "(function(scope) {\n",
              "function span(text, styleAttributes = {}) {\n",
              "  const element = document.createElement('span');\n",
              "  element.textContent = text;\n",
              "  for (const key of Object.keys(styleAttributes)) {\n",
              "    element.style[key] = styleAttributes[key];\n",
              "  }\n",
              "  return element;\n",
              "}\n",
              "\n",
              "// Max number of bytes which will be uploaded at a time.\n",
              "const MAX_PAYLOAD_SIZE = 100 * 1024;\n",
              "\n",
              "function _uploadFiles(inputId, outputId) {\n",
              "  const steps = uploadFilesStep(inputId, outputId);\n",
              "  const outputElement = document.getElementById(outputId);\n",
              "  // Cache steps on the outputElement to make it available for the next call\n",
              "  // to uploadFilesContinue from Python.\n",
              "  outputElement.steps = steps;\n",
              "\n",
              "  return _uploadFilesContinue(outputId);\n",
              "}\n",
              "\n",
              "// This is roughly an async generator (not supported in the browser yet),\n",
              "// where there are multiple asynchronous steps and the Python side is going\n",
              "// to poll for completion of each step.\n",
              "// This uses a Promise to block the python side on completion of each step,\n",
              "// then passes the result of the previous step as the input to the next step.\n",
              "function _uploadFilesContinue(outputId) {\n",
              "  const outputElement = document.getElementById(outputId);\n",
              "  const steps = outputElement.steps;\n",
              "\n",
              "  const next = steps.next(outputElement.lastPromiseValue);\n",
              "  return Promise.resolve(next.value.promise).then((value) => {\n",
              "    // Cache the last promise value to make it available to the next\n",
              "    // step of the generator.\n",
              "    outputElement.lastPromiseValue = value;\n",
              "    return next.value.response;\n",
              "  });\n",
              "}\n",
              "\n",
              "/**\n",
              " * Generator function which is called between each async step of the upload\n",
              " * process.\n",
              " * @param {string} inputId Element ID of the input file picker element.\n",
              " * @param {string} outputId Element ID of the output display.\n",
              " * @return {!Iterable<!Object>} Iterable of next steps.\n",
              " */\n",
              "function* uploadFilesStep(inputId, outputId) {\n",
              "  const inputElement = document.getElementById(inputId);\n",
              "  inputElement.disabled = false;\n",
              "\n",
              "  const outputElement = document.getElementById(outputId);\n",
              "  outputElement.innerHTML = '';\n",
              "\n",
              "  const pickedPromise = new Promise((resolve) => {\n",
              "    inputElement.addEventListener('change', (e) => {\n",
              "      resolve(e.target.files);\n",
              "    });\n",
              "  });\n",
              "\n",
              "  const cancel = document.createElement('button');\n",
              "  inputElement.parentElement.appendChild(cancel);\n",
              "  cancel.textContent = 'Cancel upload';\n",
              "  const cancelPromise = new Promise((resolve) => {\n",
              "    cancel.onclick = () => {\n",
              "      resolve(null);\n",
              "    };\n",
              "  });\n",
              "\n",
              "  // Wait for the user to pick the files.\n",
              "  const files = yield {\n",
              "    promise: Promise.race([pickedPromise, cancelPromise]),\n",
              "    response: {\n",
              "      action: 'starting',\n",
              "    }\n",
              "  };\n",
              "\n",
              "  cancel.remove();\n",
              "\n",
              "  // Disable the input element since further picks are not allowed.\n",
              "  inputElement.disabled = true;\n",
              "\n",
              "  if (!files) {\n",
              "    return {\n",
              "      response: {\n",
              "        action: 'complete',\n",
              "      }\n",
              "    };\n",
              "  }\n",
              "\n",
              "  for (const file of files) {\n",
              "    const li = document.createElement('li');\n",
              "    li.append(span(file.name, {fontWeight: 'bold'}));\n",
              "    li.append(span(\n",
              "        `(${file.type || 'n/a'}) - ${file.size} bytes, ` +\n",
              "        `last modified: ${\n",
              "            file.lastModifiedDate ? file.lastModifiedDate.toLocaleDateString() :\n",
              "                                    'n/a'} - `));\n",
              "    const percent = span('0% done');\n",
              "    li.appendChild(percent);\n",
              "\n",
              "    outputElement.appendChild(li);\n",
              "\n",
              "    const fileDataPromise = new Promise((resolve) => {\n",
              "      const reader = new FileReader();\n",
              "      reader.onload = (e) => {\n",
              "        resolve(e.target.result);\n",
              "      };\n",
              "      reader.readAsArrayBuffer(file);\n",
              "    });\n",
              "    // Wait for the data to be ready.\n",
              "    let fileData = yield {\n",
              "      promise: fileDataPromise,\n",
              "      response: {\n",
              "        action: 'continue',\n",
              "      }\n",
              "    };\n",
              "\n",
              "    // Use a chunked sending to avoid message size limits. See b/62115660.\n",
              "    let position = 0;\n",
              "    do {\n",
              "      const length = Math.min(fileData.byteLength - position, MAX_PAYLOAD_SIZE);\n",
              "      const chunk = new Uint8Array(fileData, position, length);\n",
              "      position += length;\n",
              "\n",
              "      const base64 = btoa(String.fromCharCode.apply(null, chunk));\n",
              "      yield {\n",
              "        response: {\n",
              "          action: 'append',\n",
              "          file: file.name,\n",
              "          data: base64,\n",
              "        },\n",
              "      };\n",
              "\n",
              "      let percentDone = fileData.byteLength === 0 ?\n",
              "          100 :\n",
              "          Math.round((position / fileData.byteLength) * 100);\n",
              "      percent.textContent = `${percentDone}% done`;\n",
              "\n",
              "    } while (position < fileData.byteLength);\n",
              "  }\n",
              "\n",
              "  // All done.\n",
              "  yield {\n",
              "    response: {\n",
              "      action: 'complete',\n",
              "    }\n",
              "  };\n",
              "}\n",
              "\n",
              "scope.google = scope.google || {};\n",
              "scope.google.colab = scope.google.colab || {};\n",
              "scope.google.colab._files = {\n",
              "  _uploadFiles,\n",
              "  _uploadFilesContinue,\n",
              "};\n",
              "})(self);\n",
              "</script> "
            ]
          },
          "metadata": {}
        },
        {
          "output_type": "stream",
          "name": "stdout",
          "text": [
            "Saving 20221122_Test Excel.xlsx to 20221122_Test Excel (1).xlsx\n"
          ]
        }
      ],
      "source": [
        "import pandas as pd\n",
        "from google.colab import files\n",
        "import io\n",
        "\n",
        "uploaded = files.upload()\n"
      ]
    },
    {
      "cell_type": "code",
      "source": [
        "df = pd.read_excel(io.BytesIO(uploaded['20221122_Test Excel.xlsx']))"
      ],
      "metadata": {
        "id": "TrnYOySWPH4r"
      },
      "execution_count": 7,
      "outputs": []
    },
    {
      "cell_type": "code",
      "source": [
        "df.columns"
      ],
      "metadata": {
        "colab": {
          "base_uri": "https://localhost:8080/"
        },
        "id": "roPvWljBREmD",
        "outputId": "f0eae0cb-3e9d-467a-d218-f68629436e68"
      },
      "execution_count": 8,
      "outputs": [
        {
          "output_type": "execute_result",
          "data": {
            "text/plain": [
              "Index(['Company', 'City', 'State', 'Advisor Seller', 'Seller', 'Advisor Buyer',\n",
              "       'Buyer', 'Deal (M USD)', 'Date', 'Unnamed: 9', 'Unnamed: 10',\n",
              "       'Unnamed: 11'],\n",
              "      dtype='object')"
            ]
          },
          "metadata": {},
          "execution_count": 8
        }
      ]
    },
    {
      "cell_type": "code",
      "source": [
        "df.head"
      ],
      "metadata": {
        "colab": {
          "base_uri": "https://localhost:8080/"
        },
        "id": "puh5Z9FZTuB1",
        "outputId": "a3da7283-375b-4a62-bd7c-f5bb94aec9a6"
      },
      "execution_count": 9,
      "outputs": [
        {
          "output_type": "execute_result",
          "data": {
            "text/plain": [
              "<bound method NDFrame.head of                             Company           City          State  \\\n",
              "0         Fadel, Beahan and Keebler        Lincoln       Nebraska   \n",
              "1                Daugherty and Sons  Oklahoma City       Oklahoma   \n",
              "2                    Willms - Bosco       Marietta        Georgia   \n",
              "3    Romaguera, Spencer and Tillman      Worcester  Massachusetts   \n",
              "4                    Fahey - Hessel       Beaumont     California   \n",
              "..                              ...            ...            ...   \n",
              "145                     Mante Group     Rio Rancho     New Mexico   \n",
              "146  Romaguera, Baumbach and Willms       Thornton       Colorado   \n",
              "147                  Boehm and Sons    Carson City         Nevada   \n",
              "148                     Sauer Group        Norwalk    Connecticut   \n",
              "149           Huel, Stehr and Bauch     North Port        Florida   \n",
              "\n",
              "                Advisor Seller            Seller               Advisor Buyer  \\\n",
              "0              O'Kon - Smitham      Anais Marcus                 Mueller LLC   \n",
              "1                   Dooley LLC  Emmerson Gaffney          Aufderhar - Hamill   \n",
              "2           Botsford - Wiegand   Murray Stricker         Runolfsdottir Group   \n",
              "3              Harvey and Sons     Hadlee Coates  Connelly, Haag and Mueller   \n",
              "4            Bauch - Bashirian     Koby Blaylock         Runolfsdottir Group   \n",
              "..                         ...               ...                         ...   \n",
              "145  Nikolaus, Borer and Dicki   Khalani Goodall                   Kiehn LLC   \n",
              "146    Casper, Rath and Jacobi        Case Bruno                 Mueller LLC   \n",
              "147   Spencer, Moore and Terry      Avelyn Vargo                Paucek Group   \n",
              "148    Casper, Rath and Jacobi     Aadhya Mccain         Runolfsdottir Group   \n",
              "149              West - Turner      Jamel Marvin              Kozey - Schumm   \n",
              "\n",
              "                    Buyer  Deal (M USD)       Date  Unnamed: 9  Unnamed: 10  \\\n",
              "0         S2 Deal Finance           282 2019-09-24         NaN          NaN   \n",
              "1      GME Global Markets           347 2019-10-02         NaN          NaN   \n",
              "2     John Wilson Finance           124 2019-10-19         NaN          NaN   \n",
              "3    Towerbrokers Finance           377 2019-10-23         NaN          NaN   \n",
              "4       Credit Plus World           276 2019-10-25         NaN          NaN   \n",
              "..                    ...           ...        ...         ...          ...   \n",
              "145   John Wilson Finance           484 2022-10-08         NaN          NaN   \n",
              "146    GME Global Markets           345 2022-10-12         NaN          NaN   \n",
              "147       S2 Deal Finance           259 2022-10-13         NaN          NaN   \n",
              "148        Total F Series           362 2022-10-19         NaN          NaN   \n",
              "149         Hedley Realty           184 2022-10-27         NaN          NaN   \n",
              "\n",
              "                                       Unnamed: 11  \n",
              "0                       Total AuM of all the deals  \n",
              "1                                  Number of deals  \n",
              "2    City and State of the company \"Pacocha Group\"  \n",
              "3                    Total AuM deals in New Jersey  \n",
              "4                     Number of deals in Louisiana  \n",
              "..                                             ...  \n",
              "145                                            NaN  \n",
              "146                                            NaN  \n",
              "147                                            NaN  \n",
              "148                                            NaN  \n",
              "149                                            NaN  \n",
              "\n",
              "[150 rows x 12 columns]>"
            ]
          },
          "metadata": {},
          "execution_count": 9
        }
      ]
    },
    {
      "cell_type": "code",
      "source": [
        "questions = df['Unnamed: 11']"
      ],
      "metadata": {
        "id": "1eb2B3PWQKpN"
      },
      "execution_count": 10,
      "outputs": []
    },
    {
      "cell_type": "code",
      "source": [
        "df = df.drop(columns='Unnamed: 11')"
      ],
      "metadata": {
        "id": "5YyTNB--QX_H"
      },
      "execution_count": 11,
      "outputs": []
    },
    {
      "cell_type": "code",
      "source": [
        "questions[0]"
      ],
      "metadata": {
        "colab": {
          "base_uri": "https://localhost:8080/",
          "height": 35
        },
        "id": "8H9VOsvWQfEu",
        "outputId": "fd96655f-cc73-4341-b93f-1d5e54c27594"
      },
      "execution_count": 12,
      "outputs": [
        {
          "output_type": "execute_result",
          "data": {
            "text/plain": [
              "'Total AuM of all the deals'"
            ],
            "application/vnd.google.colaboratory.intrinsic+json": {
              "type": "string"
            }
          },
          "metadata": {},
          "execution_count": 12
        }
      ]
    },
    {
      "cell_type": "code",
      "source": [
        "print(sum(df['Deal (M USD)']))"
      ],
      "metadata": {
        "colab": {
          "base_uri": "https://localhost:8080/"
        },
        "id": "bScvpuKnQj3-",
        "outputId": "36851941-688c-42a9-9d86-f217873dd47e"
      },
      "execution_count": 13,
      "outputs": [
        {
          "output_type": "stream",
          "name": "stdout",
          "text": [
            "41929\n"
          ]
        }
      ]
    },
    {
      "cell_type": "code",
      "source": [
        "questions[1]"
      ],
      "metadata": {
        "colab": {
          "base_uri": "https://localhost:8080/",
          "height": 35
        },
        "id": "97jIgZX6QqZI",
        "outputId": "3b359951-2ba9-4c32-cb54-beb48547a92b"
      },
      "execution_count": 14,
      "outputs": [
        {
          "output_type": "execute_result",
          "data": {
            "text/plain": [
              "'Number of deals'"
            ],
            "application/vnd.google.colaboratory.intrinsic+json": {
              "type": "string"
            }
          },
          "metadata": {},
          "execution_count": 14
        }
      ]
    },
    {
      "cell_type": "code",
      "source": [
        "print(len(df['Deal (M USD)']))"
      ],
      "metadata": {
        "colab": {
          "base_uri": "https://localhost:8080/"
        },
        "id": "B-SJhLlJQuh2",
        "outputId": "e30dcfa7-7b2a-424b-8c71-a297ba01b41f"
      },
      "execution_count": 15,
      "outputs": [
        {
          "output_type": "stream",
          "name": "stdout",
          "text": [
            "150\n"
          ]
        }
      ]
    },
    {
      "cell_type": "code",
      "source": [
        "questions[2]"
      ],
      "metadata": {
        "colab": {
          "base_uri": "https://localhost:8080/",
          "height": 35
        },
        "id": "k3CGUzVbQ2dq",
        "outputId": "132f85aa-1ec5-438c-c1ca-d569aebb2b55"
      },
      "execution_count": 16,
      "outputs": [
        {
          "output_type": "execute_result",
          "data": {
            "text/plain": [
              "'City and State of the company \"Pacocha Group\"'"
            ],
            "application/vnd.google.colaboratory.intrinsic+json": {
              "type": "string"
            }
          },
          "metadata": {},
          "execution_count": 16
        }
      ]
    },
    {
      "cell_type": "code",
      "source": [
        "print(df.loc[df['Company'] == \"Pacocha Group\", ['City', 'State']] )"
      ],
      "metadata": {
        "colab": {
          "base_uri": "https://localhost:8080/"
        },
        "id": "90QztFJQQ5r3",
        "outputId": "a9435d5a-0710-4360-e376-be98a72825c9"
      },
      "execution_count": 17,
      "outputs": [
        {
          "output_type": "stream",
          "name": "stdout",
          "text": [
            "       City       State\n",
            "14  Trenton  New Jersey\n"
          ]
        }
      ]
    },
    {
      "cell_type": "code",
      "source": [
        "questions[3]"
      ],
      "metadata": {
        "colab": {
          "base_uri": "https://localhost:8080/",
          "height": 35
        },
        "id": "2llFYquARnA7",
        "outputId": "9da290b1-45ec-4b4d-c63b-d01087663fc5"
      },
      "execution_count": 18,
      "outputs": [
        {
          "output_type": "execute_result",
          "data": {
            "text/plain": [
              "'Total AuM deals in New Jersey'"
            ],
            "application/vnd.google.colaboratory.intrinsic+json": {
              "type": "string"
            }
          },
          "metadata": {},
          "execution_count": 18
        }
      ]
    },
    {
      "cell_type": "code",
      "source": [
        "print(sum(df[df['State'] == 'New Jersey']['Deal (M USD)']))"
      ],
      "metadata": {
        "colab": {
          "base_uri": "https://localhost:8080/"
        },
        "id": "du4cr8qERpRs",
        "outputId": "6aedc55b-b7aa-4e22-a5cc-a12806e6213c"
      },
      "execution_count": 19,
      "outputs": [
        {
          "output_type": "stream",
          "name": "stdout",
          "text": [
            "1994\n"
          ]
        }
      ]
    },
    {
      "cell_type": "code",
      "source": [
        "questions[4]"
      ],
      "metadata": {
        "colab": {
          "base_uri": "https://localhost:8080/",
          "height": 35
        },
        "id": "t8m5M2X2SMHz",
        "outputId": "82412e94-c6bc-4c44-be36-206ee6c23724"
      },
      "execution_count": 20,
      "outputs": [
        {
          "output_type": "execute_result",
          "data": {
            "text/plain": [
              "'Number of deals in Louisiana'"
            ],
            "application/vnd.google.colaboratory.intrinsic+json": {
              "type": "string"
            }
          },
          "metadata": {},
          "execution_count": 20
        }
      ]
    },
    {
      "cell_type": "code",
      "source": [
        "print(len(df[df['State'] == 'Louisiana']))"
      ],
      "metadata": {
        "colab": {
          "base_uri": "https://localhost:8080/"
        },
        "id": "tK0y4ZxDSRc0",
        "outputId": "651d8c6d-52b9-4798-aefe-98a5ee4f29c5"
      },
      "execution_count": 21,
      "outputs": [
        {
          "output_type": "stream",
          "name": "stdout",
          "text": [
            "1\n"
          ]
        }
      ]
    },
    {
      "cell_type": "code",
      "source": [
        "questions[5]"
      ],
      "metadata": {
        "colab": {
          "base_uri": "https://localhost:8080/",
          "height": 35
        },
        "id": "ky--Jv5dSj_t",
        "outputId": "b1d9a680-1ddd-402f-9866-a4c404199d4f"
      },
      "execution_count": 22,
      "outputs": [
        {
          "output_type": "execute_result",
          "data": {
            "text/plain": [
              "'Average AuM deals with \"Wolff LLC\" as Advisor Seller'"
            ],
            "application/vnd.google.colaboratory.intrinsic+json": {
              "type": "string"
            }
          },
          "metadata": {},
          "execution_count": 22
        }
      ]
    },
    {
      "cell_type": "code",
      "source": [
        "from numpy.core.fromnumeric import mean\n",
        "print(mean(df[df['Advisor Seller'] == \"Wolff LLC\"]['Deal (M USD)']))"
      ],
      "metadata": {
        "colab": {
          "base_uri": "https://localhost:8080/"
        },
        "id": "cE9IcnrWSqtz",
        "outputId": "1a4652bc-1254-4e09-cf87-9e0abb5f6b0f"
      },
      "execution_count": 23,
      "outputs": [
        {
          "output_type": "stream",
          "name": "stdout",
          "text": [
            "258.6\n"
          ]
        }
      ]
    },
    {
      "cell_type": "code",
      "source": [
        "questions[6]"
      ],
      "metadata": {
        "colab": {
          "base_uri": "https://localhost:8080/",
          "height": 35
        },
        "id": "frvTYaWLS8L9",
        "outputId": "31e04a19-62ed-4fb5-9e3c-ae2c1bdce484"
      },
      "execution_count": 24,
      "outputs": [
        {
          "output_type": "execute_result",
          "data": {
            "text/plain": [
              "'City of the 5th deal'"
            ],
            "application/vnd.google.colaboratory.intrinsic+json": {
              "type": "string"
            }
          },
          "metadata": {},
          "execution_count": 24
        }
      ]
    },
    {
      "cell_type": "code",
      "source": [
        "df.iloc[4]['City']"
      ],
      "metadata": {
        "colab": {
          "base_uri": "https://localhost:8080/",
          "height": 35
        },
        "id": "zo6XBz8sTBgt",
        "outputId": "7e25f301-6312-4c8b-a06e-32e7ccc494c5"
      },
      "execution_count": 25,
      "outputs": [
        {
          "output_type": "execute_result",
          "data": {
            "text/plain": [
              "'Beaumont'"
            ],
            "application/vnd.google.colaboratory.intrinsic+json": {
              "type": "string"
            }
          },
          "metadata": {},
          "execution_count": 25
        }
      ]
    },
    {
      "cell_type": "code",
      "source": [
        "questions[7]"
      ],
      "metadata": {
        "colab": {
          "base_uri": "https://localhost:8080/",
          "height": 35
        },
        "id": "o5m4lu6TTS5L",
        "outputId": "20551ef8-8fea-4dc1-f393-c707e5e7b1d4"
      },
      "execution_count": 26,
      "outputs": [
        {
          "output_type": "execute_result",
          "data": {
            "text/plain": [
              "'Number of deals in in California > 50M USD'"
            ],
            "application/vnd.google.colaboratory.intrinsic+json": {
              "type": "string"
            }
          },
          "metadata": {},
          "execution_count": 26
        }
      ]
    },
    {
      "cell_type": "code",
      "source": [
        "print(len(df[(df['State'] == \"California\") & (df['Deal (M USD)'] > 50) ]))"
      ],
      "metadata": {
        "colab": {
          "base_uri": "https://localhost:8080/"
        },
        "id": "QSnr15j2TVO4",
        "outputId": "74d58db7-3531-4219-9f6a-41d580a55e88"
      },
      "execution_count": 27,
      "outputs": [
        {
          "output_type": "stream",
          "name": "stdout",
          "text": [
            "19\n"
          ]
        }
      ]
    },
    {
      "cell_type": "code",
      "source": [
        "questions[8]"
      ],
      "metadata": {
        "colab": {
          "base_uri": "https://localhost:8080/",
          "height": 35
        },
        "id": "EaR9o2qcUcdy",
        "outputId": "6b409a97-3e0c-4ee1-b0a7-c4c1d46a2718"
      },
      "execution_count": 28,
      "outputs": [
        {
          "output_type": "execute_result",
          "data": {
            "text/plain": [
              "'Number of deals in 2021'"
            ],
            "application/vnd.google.colaboratory.intrinsic+json": {
              "type": "string"
            }
          },
          "metadata": {},
          "execution_count": 28
        }
      ]
    },
    {
      "cell_type": "code",
      "source": [
        "print(len(df[(df['Date'] >= '2021-01-01') & (df['Date'] <= '2021-12-31') ]))"
      ],
      "metadata": {
        "colab": {
          "base_uri": "https://localhost:8080/"
        },
        "id": "275IABwhUfli",
        "outputId": "eaf8722b-0227-40d8-965f-bed901dba7d6"
      },
      "execution_count": 29,
      "outputs": [
        {
          "output_type": "stream",
          "name": "stdout",
          "text": [
            "41\n"
          ]
        }
      ]
    },
    {
      "cell_type": "code",
      "source": [
        "questions[9]"
      ],
      "metadata": {
        "colab": {
          "base_uri": "https://localhost:8080/",
          "height": 35
        },
        "id": "5at40HqbVZdI",
        "outputId": "2ee5e3aa-dc3e-48c5-862c-328b96008169"
      },
      "execution_count": 30,
      "outputs": [
        {
          "output_type": "execute_result",
          "data": {
            "text/plain": [
              "'Smallest deal in California in 2022'"
            ],
            "application/vnd.google.colaboratory.intrinsic+json": {
              "type": "string"
            }
          },
          "metadata": {},
          "execution_count": 30
        }
      ]
    },
    {
      "cell_type": "code",
      "source": [
        "df_red = df[(df['Date'] >= '2022-01-01') & (df['Date'] <= '2022-12-31') ]\n"
      ],
      "metadata": {
        "id": "NZhRO4enXDLl"
      },
      "execution_count": 31,
      "outputs": []
    },
    {
      "cell_type": "code",
      "source": [
        "print(df_red[df[(df['Date'] >= '2022-01-01') & (df['Date'] <= '2022-12-31') ]['Deal (M USD)'] == df[(df['Date'] >= '2022-01-01') & (df['Date'] <= '2022-12-31') ]['Deal (M USD)'].min()])"
      ],
      "metadata": {
        "colab": {
          "base_uri": "https://localhost:8080/"
        },
        "id": "LJ2bKjXYVccg",
        "outputId": "57444a4b-6be8-4c69-883e-08028b9d1092"
      },
      "execution_count": 32,
      "outputs": [
        {
          "output_type": "stream",
          "name": "stdout",
          "text": [
            "         Company    City       State   Advisor Seller      Seller  \\\n",
            "115  Windler Inc  Auburn  Washington  O'Kon - Smitham  Anisa Mota   \n",
            "\n",
            "        Advisor Buyer        Buyer  Deal (M USD)       Date  Unnamed: 9  \\\n",
            "115  Streich and Sons  RTP Company            22 2022-04-10         NaN   \n",
            "\n",
            "     Unnamed: 10  \n",
            "115          NaN  \n"
          ]
        }
      ]
    },
    {
      "cell_type": "code",
      "source": [
        "questions[10]"
      ],
      "metadata": {
        "colab": {
          "base_uri": "https://localhost:8080/",
          "height": 35
        },
        "id": "sRXz2mL8YrDp",
        "outputId": "00c01db3-e615-4a6c-9f86-e5a330b73be7"
      },
      "execution_count": 33,
      "outputs": [
        {
          "output_type": "execute_result",
          "data": {
            "text/plain": [
              "'Surname of the first seller'"
            ],
            "application/vnd.google.colaboratory.intrinsic+json": {
              "type": "string"
            }
          },
          "metadata": {},
          "execution_count": 33
        }
      ]
    },
    {
      "cell_type": "code",
      "source": [
        "df.iloc[0]['Seller'].split()[-1]"
      ],
      "metadata": {
        "colab": {
          "base_uri": "https://localhost:8080/",
          "height": 35
        },
        "id": "guFQN77qYunG",
        "outputId": "89b20e67-9b21-422a-a64a-4a5d5fb1e476"
      },
      "execution_count": 34,
      "outputs": [
        {
          "output_type": "execute_result",
          "data": {
            "text/plain": [
              "'Marcus'"
            ],
            "application/vnd.google.colaboratory.intrinsic+json": {
              "type": "string"
            }
          },
          "metadata": {},
          "execution_count": 34
        }
      ]
    },
    {
      "cell_type": "code",
      "source": [
        "questions[11]"
      ],
      "metadata": {
        "colab": {
          "base_uri": "https://localhost:8080/",
          "height": 35
        },
        "id": "mbQsy190Y9px",
        "outputId": "b94b6615-8fb8-4309-88b9-e1af6a5b98eb"
      },
      "execution_count": 35,
      "outputs": [
        {
          "output_type": "execute_result",
          "data": {
            "text/plain": [
              "'Number of deals in cities whose name starts with G'"
            ],
            "application/vnd.google.colaboratory.intrinsic+json": {
              "type": "string"
            }
          },
          "metadata": {},
          "execution_count": 35
        }
      ]
    },
    {
      "cell_type": "code",
      "source": [
        "print(len(df[df['City'].str.startswith('G')]))"
      ],
      "metadata": {
        "colab": {
          "base_uri": "https://localhost:8080/"
        },
        "id": "YURaIBGbZIrx",
        "outputId": "e83ba410-9861-42e0-fe18-986b333ef476"
      },
      "execution_count": 36,
      "outputs": [
        {
          "output_type": "stream",
          "name": "stdout",
          "text": [
            "6\n"
          ]
        }
      ]
    },
    {
      "cell_type": "code",
      "source": [
        "questions[12]"
      ],
      "metadata": {
        "colab": {
          "base_uri": "https://localhost:8080/",
          "height": 35
        },
        "id": "ygfONZmuZzho",
        "outputId": "58c9d28f-18d9-48d1-cda9-24b1445d74fa"
      },
      "execution_count": 37,
      "outputs": [
        {
          "output_type": "execute_result",
          "data": {
            "text/plain": [
              "'Name of the company sold by Viraj Heinz'"
            ],
            "application/vnd.google.colaboratory.intrinsic+json": {
              "type": "string"
            }
          },
          "metadata": {},
          "execution_count": 37
        }
      ]
    },
    {
      "cell_type": "code",
      "source": [
        "print(df.loc[df['Seller'] == \"Viraj Heinz\", 'Company'] )"
      ],
      "metadata": {
        "colab": {
          "base_uri": "https://localhost:8080/"
        },
        "id": "XGSRL43WZ2vP",
        "outputId": "adec6972-af22-43f2-a85e-92a486a52336"
      },
      "execution_count": 38,
      "outputs": [
        {
          "output_type": "stream",
          "name": "stdout",
          "text": [
            "108    Wisozk Group\n",
            "Name: Company, dtype: object\n"
          ]
        }
      ]
    },
    {
      "cell_type": "code",
      "source": [
        "questions[13]"
      ],
      "metadata": {
        "colab": {
          "base_uri": "https://localhost:8080/",
          "height": 35
        },
        "id": "rwlzlifdaNOt",
        "outputId": "ab9e488c-c43d-4b1d-ced1-bfb63ae1aca7"
      },
      "execution_count": 39,
      "outputs": [
        {
          "output_type": "execute_result",
          "data": {
            "text/plain": [
              "'State with the biggest deal'"
            ],
            "application/vnd.google.colaboratory.intrinsic+json": {
              "type": "string"
            }
          },
          "metadata": {},
          "execution_count": 39
        }
      ]
    },
    {
      "cell_type": "code",
      "source": [
        "print(df[df['Deal (M USD)'] == df['Deal (M USD)'].max()]['State'])"
      ],
      "metadata": {
        "colab": {
          "base_uri": "https://localhost:8080/"
        },
        "id": "FqDXNfuMaRTZ",
        "outputId": "55201594-b8ef-4e68-ab83-16597254a1af"
      },
      "execution_count": 40,
      "outputs": [
        {
          "output_type": "stream",
          "name": "stdout",
          "text": [
            "15    Virginia\n",
            "Name: State, dtype: object\n"
          ]
        }
      ]
    },
    {
      "cell_type": "code",
      "source": [
        "questions[14]"
      ],
      "metadata": {
        "colab": {
          "base_uri": "https://localhost:8080/",
          "height": 35
        },
        "id": "u9CCVvIBa3Xg",
        "outputId": "ebadfe25-a3b7-450a-866f-13876f609b43"
      },
      "execution_count": 41,
      "outputs": [
        {
          "output_type": "execute_result",
          "data": {
            "text/plain": [
              "'Select a random Seller'"
            ],
            "application/vnd.google.colaboratory.intrinsic+json": {
              "type": "string"
            }
          },
          "metadata": {},
          "execution_count": 41
        }
      ]
    },
    {
      "cell_type": "code",
      "source": [
        "import random\n",
        "print(random.choice(df['Seller']))"
      ],
      "metadata": {
        "id": "kpTzFMuWa8CW",
        "colab": {
          "base_uri": "https://localhost:8080/"
        },
        "outputId": "f57a5e58-58aa-45a3-f1ee-0fb1a27654ab"
      },
      "execution_count": 43,
      "outputs": [
        {
          "output_type": "stream",
          "name": "stdout",
          "text": [
            "Randolph Etter\n"
          ]
        }
      ]
    },
    {
      "cell_type": "code",
      "source": [
        "questions[15]"
      ],
      "metadata": {
        "colab": {
          "base_uri": "https://localhost:8080/",
          "height": 35
        },
        "id": "7QzX9c3N-q26",
        "outputId": "49f9814b-e5a0-4bcf-9f5d-4746a2b61e0c"
      },
      "execution_count": 45,
      "outputs": [
        {
          "output_type": "execute_result",
          "data": {
            "text/plain": [
              "'First deal performed with \"TJ Finance Services\" as Buyer in Georgia'"
            ],
            "application/vnd.google.colaboratory.intrinsic+json": {
              "type": "string"
            }
          },
          "metadata": {},
          "execution_count": 45
        }
      ]
    },
    {
      "cell_type": "code",
      "source": [
        "print(df[(df['Buyer']==\"TJ Finance Services\") & (df['State'] == 'Georgia')].iloc[0])"
      ],
      "metadata": {
        "colab": {
          "base_uri": "https://localhost:8080/"
        },
        "id": "cnrPsHwc-zDK",
        "outputId": "d76e75f2-d700-435c-9767-b9a5dbe5468f"
      },
      "execution_count": 53,
      "outputs": [
        {
          "output_type": "stream",
          "name": "stdout",
          "text": [
            "Company               Kozey - Okuneva\n",
            "City                         Columbus\n",
            "State                         Georgia\n",
            "Advisor Seller    Hilll - Schamberger\n",
            "Seller                  Jakub Ritchey\n",
            "Advisor Buyer         Metz - Bernhard\n",
            "Buyer             TJ Finance Services\n",
            "Deal (M USD)                      239\n",
            "Date              2022-04-14 00:00:00\n",
            "Unnamed: 9                        NaN\n",
            "Unnamed: 10                       NaN\n",
            "Name: 119, dtype: object\n"
          ]
        }
      ]
    },
    {
      "cell_type": "code",
      "source": [
        "questions[16]"
      ],
      "metadata": {
        "colab": {
          "base_uri": "https://localhost:8080/",
          "height": 35
        },
        "id": "6pp15pG8_d_B",
        "outputId": "ce97207d-30b7-49eb-8f59-664b1e11e5f9"
      },
      "execution_count": 54,
      "outputs": [
        {
          "output_type": "execute_result",
          "data": {
            "text/plain": [
              "'Firm with the longest name'"
            ],
            "application/vnd.google.colaboratory.intrinsic+json": {
              "type": "string"
            }
          },
          "metadata": {},
          "execution_count": 54
        }
      ]
    },
    {
      "cell_type": "code",
      "source": [
        "print(df[df['Company'].str.len() == df['Company'].str.len().max()]['Company'])"
      ],
      "metadata": {
        "colab": {
          "base_uri": "https://localhost:8080/"
        },
        "id": "O-8mtyKF_vh6",
        "outputId": "7f0d7854-c624-401c-befa-6255164e393b"
      },
      "execution_count": 66,
      "outputs": [
        {
          "output_type": "stream",
          "name": "stdout",
          "text": [
            "142    McCullough, Runolfsdottir and Carroll\n",
            "Name: Company, dtype: object\n"
          ]
        }
      ]
    },
    {
      "cell_type": "code",
      "source": [
        "questions[17]"
      ],
      "metadata": {
        "colab": {
          "base_uri": "https://localhost:8080/",
          "height": 35
        },
        "id": "3c9dw3o1AdyT",
        "outputId": "8e42458d-dd47-4c70-edab-893d4394a833"
      },
      "execution_count": 67,
      "outputs": [
        {
          "output_type": "execute_result",
          "data": {
            "text/plain": [
              "'Total deals of the State of the random Seller chosen above'"
            ],
            "application/vnd.google.colaboratory.intrinsic+json": {
              "type": "string"
            }
          },
          "metadata": {},
          "execution_count": 67
        }
      ]
    },
    {
      "cell_type": "code",
      "source": [
        "print(sum(df[df['State'] == df[df['Seller'] == 'Randolph Etter']['State'].item()]['Deal (M USD)']))"
      ],
      "metadata": {
        "colab": {
          "base_uri": "https://localhost:8080/"
        },
        "id": "dPjgWL0aAkNx",
        "outputId": "cc71199e-6be7-4c33-b23e-715217318b65"
      },
      "execution_count": 78,
      "outputs": [
        {
          "output_type": "stream",
          "name": "stdout",
          "text": [
            "2650\n"
          ]
        }
      ]
    },
    {
      "cell_type": "code",
      "source": [
        "questions[18]"
      ],
      "metadata": {
        "colab": {
          "base_uri": "https://localhost:8080/",
          "height": 35
        },
        "id": "0VzWKbrYBfOS",
        "outputId": "fe01bc12-c128-464c-ff2b-e70d8cc3aef8"
      },
      "execution_count": 79,
      "outputs": [
        {
          "output_type": "execute_result",
          "data": {
            "text/plain": [
              "'Last firm sold in California'"
            ],
            "application/vnd.google.colaboratory.intrinsic+json": {
              "type": "string"
            }
          },
          "metadata": {},
          "execution_count": 79
        }
      ]
    },
    {
      "cell_type": "code",
      "source": [
        "print(df[df.State == 'California'].sort_values('Date').iloc[-1])"
      ],
      "metadata": {
        "colab": {
          "base_uri": "https://localhost:8080/"
        },
        "id": "nNLgxC9JCNI2",
        "outputId": "02e31e4d-ea18-4af0-eb72-770c21d6fa77"
      },
      "execution_count": 83,
      "outputs": [
        {
          "output_type": "stream",
          "name": "stdout",
          "text": [
            "Company                      Lakin - Bradtke\n",
            "City                                 Hanford\n",
            "State                             California\n",
            "Advisor Seller    Cummerata, Block and Ferry\n",
            "Seller                            Ziad Clare\n",
            "Advisor Buyer                  DuBuque Group\n",
            "Buyer                   Towerbrokers Finance\n",
            "Deal (M USD)                             431\n",
            "Date                     2022-08-28 00:00:00\n",
            "Unnamed: 9                               NaN\n",
            "Unnamed: 10                              NaN\n",
            "Name: 139, dtype: object\n"
          ]
        }
      ]
    },
    {
      "cell_type": "code",
      "source": [
        "questions[19]"
      ],
      "metadata": {
        "colab": {
          "base_uri": "https://localhost:8080/",
          "height": 35
        },
        "id": "NiR773mlCvdM",
        "outputId": "6baeaf46-596a-49fb-a46d-17448d61a1a4"
      },
      "execution_count": 84,
      "outputs": [
        {
          "output_type": "execute_result",
          "data": {
            "text/plain": [
              "'List of the companies bought by \"Mundilak Capital\"'"
            ],
            "application/vnd.google.colaboratory.intrinsic+json": {
              "type": "string"
            }
          },
          "metadata": {},
          "execution_count": 84
        }
      ]
    },
    {
      "cell_type": "code",
      "source": [
        "df[df.Buyer == \"Mundilak Capital\"]['Company']"
      ],
      "metadata": {
        "colab": {
          "base_uri": "https://localhost:8080/"
        },
        "id": "5LA9gdwJCzYv",
        "outputId": "4eb24e32-2882-4113-943f-fa4b83ffde3b"
      },
      "execution_count": 85,
      "outputs": [
        {
          "output_type": "execute_result",
          "data": {
            "text/plain": [
              "23                   Hane Group\n",
              "123    Larson, Wyman and Reilly\n",
              "138    Gulgowski - Pfannerstill\n",
              "Name: Company, dtype: object"
            ]
          },
          "metadata": {},
          "execution_count": 85
        }
      ]
    },
    {
      "cell_type": "code",
      "source": [
        "questions[20]"
      ],
      "metadata": {
        "colab": {
          "base_uri": "https://localhost:8080/",
          "height": 35
        },
        "id": "a7y03r5nC6-b",
        "outputId": "5e8bda1e-e360-4c56-ec4e-d9bbd39b56a2"
      },
      "execution_count": 86,
      "outputs": [
        {
          "output_type": "execute_result",
          "data": {
            "text/plain": [
              "'List of States with only one deal'"
            ],
            "application/vnd.google.colaboratory.intrinsic+json": {
              "type": "string"
            }
          },
          "metadata": {},
          "execution_count": 86
        }
      ]
    },
    {
      "cell_type": "code",
      "source": [
        "print(df.groupby('State').count()[df.groupby('State').count()['Buyer'] == 1].index)"
      ],
      "metadata": {
        "colab": {
          "base_uri": "https://localhost:8080/"
        },
        "id": "IWPlE772C-QS",
        "outputId": "26849097-21ea-47b3-f978-7658fa304cf7"
      },
      "execution_count": 96,
      "outputs": [
        {
          "output_type": "stream",
          "name": "stdout",
          "text": [
            "Index(['Arkansas', 'Idaho', 'Iowa', 'Kentucky', 'Louisiana', 'Missouri',\n",
            "       'Montana', 'Nebraska', 'New Hampshire', 'New York', 'Pennsylvania',\n",
            "       'West Virginia'],\n",
            "      dtype='object', name='State')\n"
          ]
        }
      ]
    },
    {
      "cell_type": "code",
      "source": [
        "questions[21]"
      ],
      "metadata": {
        "colab": {
          "base_uri": "https://localhost:8080/",
          "height": 35
        },
        "id": "zyvE2MbLD9y4",
        "outputId": "99cf27b2-cd16-40e8-bd9c-29b8d1a43a9d"
      },
      "execution_count": 97,
      "outputs": [
        {
          "output_type": "execute_result",
          "data": {
            "text/plain": [
              "'Total number of Advisor Buyer'"
            ],
            "application/vnd.google.colaboratory.intrinsic+json": {
              "type": "string"
            }
          },
          "metadata": {},
          "execution_count": 97
        }
      ]
    },
    {
      "cell_type": "code",
      "source": [
        "print(len(df.groupby('Advisor Buyer')))"
      ],
      "metadata": {
        "colab": {
          "base_uri": "https://localhost:8080/"
        },
        "id": "Trh6-ft4EAG1",
        "outputId": "10ee73b6-4212-4f26-8b3c-a6b9851bef1a"
      },
      "execution_count": 99,
      "outputs": [
        {
          "output_type": "stream",
          "name": "stdout",
          "text": [
            "40\n"
          ]
        }
      ]
    },
    {
      "cell_type": "code",
      "source": [
        "questions[22]"
      ],
      "metadata": {
        "colab": {
          "base_uri": "https://localhost:8080/",
          "height": 35
        },
        "id": "_BsWcD81EjCB",
        "outputId": "1deeb9e3-9bf7-41f1-b159-c0d559fde025"
      },
      "execution_count": 104,
      "outputs": [
        {
          "output_type": "execute_result",
          "data": {
            "text/plain": [
              "'Number of States with a 10-letter name'"
            ],
            "application/vnd.google.colaboratory.intrinsic+json": {
              "type": "string"
            }
          },
          "metadata": {},
          "execution_count": 104
        }
      ]
    },
    {
      "cell_type": "code",
      "source": [
        "print(len(df[df.State.str.len() <= 10]))"
      ],
      "metadata": {
        "colab": {
          "base_uri": "https://localhost:8080/"
        },
        "id": "K1deHNMYEmX0",
        "outputId": "2f201fa1-8e53-4317-d434-3d080cb3dcd4"
      },
      "execution_count": 105,
      "outputs": [
        {
          "output_type": "stream",
          "name": "stdout",
          "text": [
            "136\n"
          ]
        }
      ]
    },
    {
      "cell_type": "code",
      "source": [
        "questions[23]"
      ],
      "metadata": {
        "colab": {
          "base_uri": "https://localhost:8080/",
          "height": 35
        },
        "id": "xJrpAyJSE4pU",
        "outputId": "080a621e-7ede-4a79-c9dc-b98037884e4a"
      },
      "execution_count": 106,
      "outputs": [
        {
          "output_type": "execute_result",
          "data": {
            "text/plain": [
              "'Number of deals in February'"
            ],
            "application/vnd.google.colaboratory.intrinsic+json": {
              "type": "string"
            }
          },
          "metadata": {},
          "execution_count": 106
        }
      ]
    },
    {
      "cell_type": "code",
      "source": [
        "print(len(df[df['Date'].dt.month == 2]))"
      ],
      "metadata": {
        "colab": {
          "base_uri": "https://localhost:8080/"
        },
        "id": "Qi23xkkWE63h",
        "outputId": "0809f844-9375-4953-c4c2-91070839d43a"
      },
      "execution_count": 107,
      "outputs": [
        {
          "output_type": "stream",
          "name": "stdout",
          "text": [
            "8\n"
          ]
        }
      ]
    },
    {
      "cell_type": "code",
      "source": [
        "questions[24]"
      ],
      "metadata": {
        "colab": {
          "base_uri": "https://localhost:8080/",
          "height": 35
        },
        "id": "9wbfc8afFMzb",
        "outputId": "114d1fee-ddda-4bb3-9383-8ba96e1330ca"
      },
      "execution_count": 108,
      "outputs": [
        {
          "output_type": "execute_result",
          "data": {
            "text/plain": [
              "'List of the 3 people who sold their company for the highest value'"
            ],
            "application/vnd.google.colaboratory.intrinsic+json": {
              "type": "string"
            }
          },
          "metadata": {},
          "execution_count": 108
        }
      ]
    },
    {
      "cell_type": "code",
      "source": [
        "print(df.sort_values('Deal (M USD)')['Seller'][-3:])"
      ],
      "metadata": {
        "colab": {
          "base_uri": "https://localhost:8080/"
        },
        "id": "IeUrnfDeFQJN",
        "outputId": "e863d4cc-ed48-4e4e-f0c6-3fb1091399a4"
      },
      "execution_count": 115,
      "outputs": [
        {
          "output_type": "stream",
          "name": "stdout",
          "text": [
            "70    Karsten Bussey\n",
            "91    Kaysen Erdmann\n",
            "15      Akshara Mesa\n",
            "Name: Seller, dtype: object\n"
          ]
        }
      ]
    },
    {
      "cell_type": "code",
      "source": [
        "questions[25]"
      ],
      "metadata": {
        "colab": {
          "base_uri": "https://localhost:8080/",
          "height": 35
        },
        "id": "tgnRep0MFh_7",
        "outputId": "962e5945-b649-45fc-e7f9-cba5aabdd62e"
      },
      "execution_count": 111,
      "outputs": [
        {
          "output_type": "execute_result",
          "data": {
            "text/plain": [
              "'Average deal AuM for each Buyer, sorted alphabetically, rounded to unit'"
            ],
            "application/vnd.google.colaboratory.intrinsic+json": {
              "type": "string"
            }
          },
          "metadata": {},
          "execution_count": 111
        }
      ]
    },
    {
      "cell_type": "code",
      "source": [
        "pd.DataFrame(df.groupby('Buyer').mean()['Deal (M USD)']).sort_values('Buyer')"
      ],
      "metadata": {
        "colab": {
          "base_uri": "https://localhost:8080/",
          "height": 676
        },
        "id": "7iagPQyXFlVw",
        "outputId": "a83ab471-bf9a-48dc-8ce8-99d5cbb332cd"
      },
      "execution_count": 126,
      "outputs": [
        {
          "output_type": "execute_result",
          "data": {
            "text/plain": [
              "                      Deal (M USD)\n",
              "Buyer                             \n",
              "All-Bank Holdings       362.111111\n",
              "Bruno Milgrom Team      290.571429\n",
              "Credit Plus World       272.750000\n",
              "Dilmore Investments     379.285714\n",
              "Finance One Global      307.000000\n",
              "Finance Partners        244.125000\n",
              "GME Global Markets      290.166667\n",
              "Hedley Realty           311.666667\n",
              "Holly Parker Capital    225.700000\n",
              "John Wilson Finance     244.083333\n",
              "K.A.O. Finance          258.916667\n",
              "LTD Finance Partners    167.166667\n",
              "Morgan Houll Finance    219.500000\n",
              "Mundilak Capital        258.333333\n",
              "RTP Company             191.125000\n",
              "S2 Deal Finance         278.625000\n",
              "TJ Finance Services     308.750000\n",
              "Total F Series          360.000000\n",
              "Towerbrokers Finance    313.833333"
            ],
            "text/html": [
              "\n",
              "  <div id=\"df-e4dc5b99-c3cf-46d8-9d04-c24c8f18a298\">\n",
              "    <div class=\"colab-df-container\">\n",
              "      <div>\n",
              "<style scoped>\n",
              "    .dataframe tbody tr th:only-of-type {\n",
              "        vertical-align: middle;\n",
              "    }\n",
              "\n",
              "    .dataframe tbody tr th {\n",
              "        vertical-align: top;\n",
              "    }\n",
              "\n",
              "    .dataframe thead th {\n",
              "        text-align: right;\n",
              "    }\n",
              "</style>\n",
              "<table border=\"1\" class=\"dataframe\">\n",
              "  <thead>\n",
              "    <tr style=\"text-align: right;\">\n",
              "      <th></th>\n",
              "      <th>Deal (M USD)</th>\n",
              "    </tr>\n",
              "    <tr>\n",
              "      <th>Buyer</th>\n",
              "      <th></th>\n",
              "    </tr>\n",
              "  </thead>\n",
              "  <tbody>\n",
              "    <tr>\n",
              "      <th>All-Bank Holdings</th>\n",
              "      <td>362.111111</td>\n",
              "    </tr>\n",
              "    <tr>\n",
              "      <th>Bruno Milgrom Team</th>\n",
              "      <td>290.571429</td>\n",
              "    </tr>\n",
              "    <tr>\n",
              "      <th>Credit Plus World</th>\n",
              "      <td>272.750000</td>\n",
              "    </tr>\n",
              "    <tr>\n",
              "      <th>Dilmore Investments</th>\n",
              "      <td>379.285714</td>\n",
              "    </tr>\n",
              "    <tr>\n",
              "      <th>Finance One Global</th>\n",
              "      <td>307.000000</td>\n",
              "    </tr>\n",
              "    <tr>\n",
              "      <th>Finance Partners</th>\n",
              "      <td>244.125000</td>\n",
              "    </tr>\n",
              "    <tr>\n",
              "      <th>GME Global Markets</th>\n",
              "      <td>290.166667</td>\n",
              "    </tr>\n",
              "    <tr>\n",
              "      <th>Hedley Realty</th>\n",
              "      <td>311.666667</td>\n",
              "    </tr>\n",
              "    <tr>\n",
              "      <th>Holly Parker Capital</th>\n",
              "      <td>225.700000</td>\n",
              "    </tr>\n",
              "    <tr>\n",
              "      <th>John Wilson Finance</th>\n",
              "      <td>244.083333</td>\n",
              "    </tr>\n",
              "    <tr>\n",
              "      <th>K.A.O. Finance</th>\n",
              "      <td>258.916667</td>\n",
              "    </tr>\n",
              "    <tr>\n",
              "      <th>LTD Finance Partners</th>\n",
              "      <td>167.166667</td>\n",
              "    </tr>\n",
              "    <tr>\n",
              "      <th>Morgan Houll Finance</th>\n",
              "      <td>219.500000</td>\n",
              "    </tr>\n",
              "    <tr>\n",
              "      <th>Mundilak Capital</th>\n",
              "      <td>258.333333</td>\n",
              "    </tr>\n",
              "    <tr>\n",
              "      <th>RTP Company</th>\n",
              "      <td>191.125000</td>\n",
              "    </tr>\n",
              "    <tr>\n",
              "      <th>S2 Deal Finance</th>\n",
              "      <td>278.625000</td>\n",
              "    </tr>\n",
              "    <tr>\n",
              "      <th>TJ Finance Services</th>\n",
              "      <td>308.750000</td>\n",
              "    </tr>\n",
              "    <tr>\n",
              "      <th>Total F Series</th>\n",
              "      <td>360.000000</td>\n",
              "    </tr>\n",
              "    <tr>\n",
              "      <th>Towerbrokers Finance</th>\n",
              "      <td>313.833333</td>\n",
              "    </tr>\n",
              "  </tbody>\n",
              "</table>\n",
              "</div>\n",
              "      <button class=\"colab-df-convert\" onclick=\"convertToInteractive('df-e4dc5b99-c3cf-46d8-9d04-c24c8f18a298')\"\n",
              "              title=\"Convert this dataframe to an interactive table.\"\n",
              "              style=\"display:none;\">\n",
              "        \n",
              "  <svg xmlns=\"http://www.w3.org/2000/svg\" height=\"24px\"viewBox=\"0 0 24 24\"\n",
              "       width=\"24px\">\n",
              "    <path d=\"M0 0h24v24H0V0z\" fill=\"none\"/>\n",
              "    <path d=\"M18.56 5.44l.94 2.06.94-2.06 2.06-.94-2.06-.94-.94-2.06-.94 2.06-2.06.94zm-11 1L8.5 8.5l.94-2.06 2.06-.94-2.06-.94L8.5 2.5l-.94 2.06-2.06.94zm10 10l.94 2.06.94-2.06 2.06-.94-2.06-.94-.94-2.06-.94 2.06-2.06.94z\"/><path d=\"M17.41 7.96l-1.37-1.37c-.4-.4-.92-.59-1.43-.59-.52 0-1.04.2-1.43.59L10.3 9.45l-7.72 7.72c-.78.78-.78 2.05 0 2.83L4 21.41c.39.39.9.59 1.41.59.51 0 1.02-.2 1.41-.59l7.78-7.78 2.81-2.81c.8-.78.8-2.07 0-2.86zM5.41 20L4 18.59l7.72-7.72 1.47 1.35L5.41 20z\"/>\n",
              "  </svg>\n",
              "      </button>\n",
              "      \n",
              "  <style>\n",
              "    .colab-df-container {\n",
              "      display:flex;\n",
              "      flex-wrap:wrap;\n",
              "      gap: 12px;\n",
              "    }\n",
              "\n",
              "    .colab-df-convert {\n",
              "      background-color: #E8F0FE;\n",
              "      border: none;\n",
              "      border-radius: 50%;\n",
              "      cursor: pointer;\n",
              "      display: none;\n",
              "      fill: #1967D2;\n",
              "      height: 32px;\n",
              "      padding: 0 0 0 0;\n",
              "      width: 32px;\n",
              "    }\n",
              "\n",
              "    .colab-df-convert:hover {\n",
              "      background-color: #E2EBFA;\n",
              "      box-shadow: 0px 1px 2px rgba(60, 64, 67, 0.3), 0px 1px 3px 1px rgba(60, 64, 67, 0.15);\n",
              "      fill: #174EA6;\n",
              "    }\n",
              "\n",
              "    [theme=dark] .colab-df-convert {\n",
              "      background-color: #3B4455;\n",
              "      fill: #D2E3FC;\n",
              "    }\n",
              "\n",
              "    [theme=dark] .colab-df-convert:hover {\n",
              "      background-color: #434B5C;\n",
              "      box-shadow: 0px 1px 3px 1px rgba(0, 0, 0, 0.15);\n",
              "      filter: drop-shadow(0px 1px 2px rgba(0, 0, 0, 0.3));\n",
              "      fill: #FFFFFF;\n",
              "    }\n",
              "  </style>\n",
              "\n",
              "      <script>\n",
              "        const buttonEl =\n",
              "          document.querySelector('#df-e4dc5b99-c3cf-46d8-9d04-c24c8f18a298 button.colab-df-convert');\n",
              "        buttonEl.style.display =\n",
              "          google.colab.kernel.accessAllowed ? 'block' : 'none';\n",
              "\n",
              "        async function convertToInteractive(key) {\n",
              "          const element = document.querySelector('#df-e4dc5b99-c3cf-46d8-9d04-c24c8f18a298');\n",
              "          const dataTable =\n",
              "            await google.colab.kernel.invokeFunction('convertToInteractive',\n",
              "                                                     [key], {});\n",
              "          if (!dataTable) return;\n",
              "\n",
              "          const docLinkHtml = 'Like what you see? Visit the ' +\n",
              "            '<a target=\"_blank\" href=https://colab.research.google.com/notebooks/data_table.ipynb>data table notebook</a>'\n",
              "            + ' to learn more about interactive tables.';\n",
              "          element.innerHTML = '';\n",
              "          dataTable['output_type'] = 'display_data';\n",
              "          await google.colab.output.renderOutput(dataTable, element);\n",
              "          const docLink = document.createElement('div');\n",
              "          docLink.innerHTML = docLinkHtml;\n",
              "          element.appendChild(docLink);\n",
              "        }\n",
              "      </script>\n",
              "    </div>\n",
              "  </div>\n",
              "  "
            ]
          },
          "metadata": {},
          "execution_count": 126
        }
      ]
    }
  ]
}